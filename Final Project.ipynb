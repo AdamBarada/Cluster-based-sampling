{
 "cells": [
  {
   "cell_type": "markdown",
   "metadata": {},
   "source": [
    "## Imports"
   ]
  },
  {
   "cell_type": "code",
   "execution_count": 1,
   "metadata": {},
   "outputs": [],
   "source": [
    "from sklearn.cluster import KMeans\n",
    "from sklearn.preprocessing import MinMaxScaler\n",
    "from sklearn.metrics import confusion_matrix\n",
    "from sklearn.metrics import silhouette_samples, silhouette_score\n",
    "\n",
    "import seaborn as sns\n",
    "\n",
    "import pandas as pd\n",
    "import numpy as np\n",
    "import random"
   ]
  },
  {
   "cell_type": "markdown",
   "metadata": {},
   "source": [
    "## Defining global variables"
   ]
  },
  {
   "cell_type": "code",
   "execution_count": 2,
   "metadata": {},
   "outputs": [],
   "source": [
    "window_size = 10\n",
    "n_clusters = 2\n",
    "sampling_ratio = 0.9 # Percentage of data to be sampled\n",
    "N = 1000   # N is the number of initial data to be clustered.\n",
    "K = sampling_ratio * N // 100  # K to be calculated as K/N is the sampling\n",
    "                               # ratio, and N is the initial number of\n",
    "                               # data to be clustered "
   ]
  },
  {
   "cell_type": "markdown",
   "metadata": {},
   "source": [
    "## Categorizing attacks into attack groups"
   ]
  },
  {
   "cell_type": "code",
   "execution_count": 3,
   "metadata": {},
   "outputs": [],
   "source": [
    "DOS   = ['back', 'neptune', 'smurf', 'teardrop', 'land', 'pod']\n",
    "Probe = ['satan', 'portsweep', 'ipsweep', 'nmap']\n",
    "R2L   = ['warezmaster', 'warezclient', 'guess_passwd', 'imap',\n",
    "         'multihop', 'phf', 'spy', 'ftp_write']\n",
    "U2R   = ['rootkit', 'buffer_overflow', 'loadmodule', 'perl']"
   ]
  },
  {
   "cell_type": "markdown",
   "metadata": {},
   "source": [
    "## Defining useful functions"
   ]
  },
  {
   "cell_type": "code",
   "execution_count": 4,
   "metadata": {},
   "outputs": [],
   "source": [
    "# Function to create list of lists.\n",
    "\n",
    "def init_list_of_objects(size):\n",
    "    list_of_objects = list()\n",
    "    for i in range(0,size):\n",
    "        list_of_objects.append( list() )\n",
    "    return list_of_objects\n",
    "\n",
    "def init_list_of_dict(size):\n",
    "    list_of_objects = list()\n",
    "    for i in range(0,size):\n",
    "        list_of_objects.append( dict() )\n",
    "    return list_of_objects\n",
    "\n",
    "# Defining our sampling probability    \n",
    "\n",
    "def probability(e, center):\n",
    "    norm_e = np.linalg.norm(e)\n",
    "    norm_center = np.linalg.norm(center)\n",
    "    return int(abs(1 - norm_e / norm_center) * 100)\n",
    "\n",
    "# Defining our error function\n",
    "\n",
    "def calculateErrorWithSample(e, sample, init_mean):\n",
    "    sample = sample.append(e, ignore_index = True)\n",
    "    sample_mean = calculateMean(sample)\n",
    "    overall_mean = init_mean - sample_mean\n",
    "    result = overall_mean.div(init_mean).replace(np.inf, 0)\n",
    "    return  abs(result.mean()) * 100  \n",
    "\n",
    "def calculateErrorWithoutSample(sample, init_mean):\n",
    "    sample_mean = calculateMean(sample)\n",
    "    overall_mean = init_mean - sample_mean\n",
    "    result = overall_mean.div(init_mean).replace(np.inf, 0)\n",
    "    return  abs(result.mean()) * 100  \n",
    "\n",
    "def updateRankTable():\n",
    "    # Do something here\n",
    "    return\n",
    "\n",
    "# calculating the mean for a giving cluster\n",
    "def calculateMean(df):\n",
    "        return df.mean(axis = 0)\n",
    "    \n",
    "def simpleRandomSampling(prob):\n",
    "    a = random.randint(1, 100)\n",
    "    if a < prob:\n",
    "        return True\n",
    "    return False"
   ]
  },
  {
   "cell_type": "markdown",
   "metadata": {},
   "source": [
    "## Reading Data"
   ]
  },
  {
   "cell_type": "code",
   "execution_count": 5,
   "metadata": {},
   "outputs": [],
   "source": [
    "# Reading and adjusting the data through header renaming and feature selection\n",
    "\n",
    "data = pd.read_csv(\"KDDTrain.txt\", sep =',', header = None)\n",
    "data.columns = [\"feature {}\".format(i+1) for i in range (43)]\n",
    "data = data.drop(data.columns[[0, 1, 2, 3, 8, 9, 11, 12, 14, 15, 16, 17, 18,\n",
    "                               19, 20, 21, 24, 25, 26, 28, 30, 31, 32, 33,\n",
    "                               34, 36, 37, 39, 40, 42]], axis = 1)"
   ]
  },
  {
   "cell_type": "markdown",
   "metadata": {},
   "source": [
    "## Data Normalization"
   ]
  },
  {
   "cell_type": "code",
   "execution_count": 6,
   "metadata": {},
   "outputs": [],
   "source": [
    "scaler = MinMaxScaler()\n",
    "norm_array = scaler.fit_transform(data.loc[:, data.columns != 'feature 42'])\n",
    "norm_data = pd.DataFrame(norm_array, columns = data.columns[:-1])"
   ]
  },
  {
   "cell_type": "markdown",
   "metadata": {},
   "source": [
    "## Replacing attack names by numerical values"
   ]
  },
  {
   "cell_type": "code",
   "execution_count": 7,
   "metadata": {},
   "outputs": [],
   "source": [
    "data['feature 42'] = data['feature 42'].replace(['normal'], 0)\n",
    "data['feature 42'] = data['feature 42'].replace(DOS, 1)\n",
    "data['feature 42'] = data['feature 42'].replace(Probe, 2)\n",
    "data['feature 42'] = data['feature 42'].replace(R2L, 3)\n",
    "data['feature 42'] = data['feature 42'].replace(U2R, 4)"
   ]
  },
  {
   "cell_type": "markdown",
   "metadata": {},
   "source": [
    "## Taking a look into our data composition per label"
   ]
  },
  {
   "cell_type": "code",
   "execution_count": 8,
   "metadata": {},
   "outputs": [
    {
     "name": "stdout",
     "output_type": "stream",
     "text": [
      "Actual label groups:\n",
      "0    67343\n",
      "1    45927\n",
      "2    11656\n",
      "3      995\n",
      "4       52\n",
      "Name: feature 42, dtype: int64\n"
     ]
    }
   ],
   "source": [
    "print(\"Actual label groups:\")\n",
    "print(data['feature 42'].value_counts())"
   ]
  },
  {
   "cell_type": "markdown",
   "metadata": {},
   "source": [
    "## Running the pseudo-code"
   ]
  },
  {
   "cell_type": "code",
   "execution_count": 9,
   "metadata": {},
   "outputs": [
    {
     "name": "stderr",
     "output_type": "stream",
     "text": [
      "C:\\Users\\adam_\\AppData\\Local\\Temp/ipykernel_25864/1732065023.py:9: SettingWithCopyWarning: \n",
      "A value is trying to be set on a copy of a slice from a DataFrame.\n",
      "Try using .loc[row_indexer,col_indexer] = value instead\n",
      "\n",
      "See the caveats in the documentation: https://pandas.pydata.org/pandas-docs/stable/user_guide/indexing.html#returning-a-view-versus-a-copy\n",
      "  sampled_df['cluster'] = kmeans.labels_\n"
     ]
    },
    {
     "name": "stdout",
     "output_type": "stream",
     "text": [
      "Clusters: \n",
      "0    710\n",
      "1    290\n",
      "Name: cluster, dtype: int64\n"
     ]
    },
    {
     "data": {
      "text/plain": [
       "[Text(0.5, 15.0, 'clusters'), Text(33.0, 0.5, 'actual')]"
      ]
     },
     "execution_count": 9,
     "metadata": {},
     "output_type": "execute_result"
    },
    {
     "data": {
      "image/png": "[encoded data removed]",
      "text/plain": [
       "<Figure size 432x288 with 2 Axes>"
      ]
     },
     "metadata": {
      "needs_background": "light"
     },
     "output_type": "display_data"
    }
   ],
   "source": [
    "# taking the 1000 first rows of data for K-means algorithm.\n",
    "\n",
    "sampled_df=norm_data.head(N)\n",
    "kmeans = KMeans(n_clusters = n_clusters)\n",
    "kmeans.fit(sampled_df)\n",
    "labels = kmeans.predict(sampled_df)\n",
    "centroids = kmeans.cluster_centers_\n",
    "\n",
    "sampled_df['cluster'] = kmeans.labels_\n",
    "print('Clusters: ')\n",
    "print(sampled_df['cluster'].value_counts())\n",
    "\n",
    "results = confusion_matrix(data['feature 42'].head(N), labels)\n",
    "s = sns.heatmap(results, cmap=\"YlGnBu\", annot=True, fmt=\"d\")\n",
    "s.set(xlabel='clusters', ylabel='actual')\n",
    "\n",
    "# Now for each cluster, sample k/n items while using the given probability.\n",
    "    "
   ]
  },
  {
   "cell_type": "code",
   "execution_count": 10,
   "metadata": {},
   "outputs": [
    {
     "ename": "KeyboardInterrupt",
     "evalue": "",
     "output_type": "error",
     "traceback": [
      "\u001b[1;31m---------------------------------------------------------------------------\u001b[0m",
      "\u001b[1;31mKeyboardInterrupt\u001b[0m                         Traceback (most recent call last)",
      "\u001b[1;32m~\\AppData\\Local\\Temp/ipykernel_25864/4246077597.py\u001b[0m in \u001b[0;36m<module>\u001b[1;34m\u001b[0m\n\u001b[0;32m     21\u001b[0m     \u001b[1;32mwhile\u001b[0m \u001b[0mlen\u001b[0m\u001b[1;33m(\u001b[0m\u001b[0mcluster_sample\u001b[0m\u001b[1;33m[\u001b[0m\u001b[0mi\u001b[0m\u001b[1;33m]\u001b[0m\u001b[1;33m)\u001b[0m \u001b[1;33m<\u001b[0m \u001b[0mint\u001b[0m\u001b[1;33m(\u001b[0m\u001b[0msampling_ratio\u001b[0m \u001b[1;33m*\u001b[0m \u001b[0mlen\u001b[0m\u001b[1;33m(\u001b[0m\u001b[0mclusters\u001b[0m\u001b[1;33m[\u001b[0m\u001b[0mi\u001b[0m\u001b[1;33m]\u001b[0m\u001b[1;33m)\u001b[0m\u001b[1;33m)\u001b[0m\u001b[1;33m:\u001b[0m\u001b[1;33m\u001b[0m\u001b[1;33m\u001b[0m\u001b[0m\n\u001b[0;32m     22\u001b[0m         \u001b[1;32mif\u001b[0m \u001b[1;33m(\u001b[0m\u001b[0mclusters\u001b[0m\u001b[1;33m[\u001b[0m\u001b[0mi\u001b[0m\u001b[1;33m]\u001b[0m\u001b[1;33m[\u001b[0m\u001b[0mj\u001b[0m\u001b[1;33m]\u001b[0m \u001b[1;32mnot\u001b[0m \u001b[1;32min\u001b[0m \u001b[0mcluster_sample\u001b[0m\u001b[1;33m[\u001b[0m\u001b[0mi\u001b[0m\u001b[1;33m]\u001b[0m\u001b[1;33m)\u001b[0m\u001b[1;33m:\u001b[0m\u001b[1;33m\u001b[0m\u001b[1;33m\u001b[0m\u001b[0m\n\u001b[1;32m---> 23\u001b[1;33m             \u001b[1;32mif\u001b[0m \u001b[0msimpleRandomSampling\u001b[0m\u001b[1;33m(\u001b[0m\u001b[0mprobability\u001b[0m\u001b[1;33m(\u001b[0m\u001b[0mnorm_data\u001b[0m\u001b[1;33m.\u001b[0m\u001b[0miloc\u001b[0m\u001b[1;33m[\u001b[0m\u001b[0mclusters\u001b[0m\u001b[1;33m[\u001b[0m\u001b[0mi\u001b[0m\u001b[1;33m]\u001b[0m\u001b[1;33m[\u001b[0m\u001b[0mj\u001b[0m\u001b[1;33m]\u001b[0m\u001b[1;33m]\u001b[0m\u001b[1;33m,\u001b[0m \u001b[0mcentroids\u001b[0m\u001b[1;33m[\u001b[0m\u001b[0mi\u001b[0m\u001b[1;33m]\u001b[0m\u001b[1;33m)\u001b[0m\u001b[1;33m)\u001b[0m\u001b[1;33m:\u001b[0m\u001b[1;33m\u001b[0m\u001b[1;33m\u001b[0m\u001b[0m\n\u001b[0m\u001b[0;32m     24\u001b[0m                 \u001b[0mcluster_sample\u001b[0m\u001b[1;33m[\u001b[0m\u001b[0mi\u001b[0m\u001b[1;33m]\u001b[0m\u001b[1;33m.\u001b[0m\u001b[0mappend\u001b[0m\u001b[1;33m(\u001b[0m\u001b[0mclusters\u001b[0m\u001b[1;33m[\u001b[0m\u001b[0mi\u001b[0m\u001b[1;33m]\u001b[0m\u001b[1;33m[\u001b[0m\u001b[0mj\u001b[0m\u001b[1;33m]\u001b[0m\u001b[1;33m)\u001b[0m\u001b[1;33m\u001b[0m\u001b[1;33m\u001b[0m\u001b[0m\n\u001b[0;32m     25\u001b[0m         \u001b[0mj\u001b[0m \u001b[1;33m=\u001b[0m \u001b[0mj\u001b[0m \u001b[1;33m+\u001b[0m \u001b[1;36m1\u001b[0m\u001b[1;33m\u001b[0m\u001b[1;33m\u001b[0m\u001b[0m\n",
      "\u001b[1;32m~\\AppData\\Local\\Temp/ipykernel_25864/3203798483.py\u001b[0m in \u001b[0;36mprobability\u001b[1;34m(e, center)\u001b[0m\n\u001b[0;32m     16\u001b[0m \u001b[1;33m\u001b[0m\u001b[0m\n\u001b[0;32m     17\u001b[0m \u001b[1;32mdef\u001b[0m \u001b[0mprobability\u001b[0m\u001b[1;33m(\u001b[0m\u001b[0me\u001b[0m\u001b[1;33m,\u001b[0m \u001b[0mcenter\u001b[0m\u001b[1;33m)\u001b[0m\u001b[1;33m:\u001b[0m\u001b[1;33m\u001b[0m\u001b[1;33m\u001b[0m\u001b[0m\n\u001b[1;32m---> 18\u001b[1;33m     \u001b[0mnorm_e\u001b[0m \u001b[1;33m=\u001b[0m \u001b[0mnp\u001b[0m\u001b[1;33m.\u001b[0m\u001b[0mlinalg\u001b[0m\u001b[1;33m.\u001b[0m\u001b[0mnorm\u001b[0m\u001b[1;33m(\u001b[0m\u001b[0me\u001b[0m\u001b[1;33m)\u001b[0m\u001b[1;33m\u001b[0m\u001b[1;33m\u001b[0m\u001b[0m\n\u001b[0m\u001b[0;32m     19\u001b[0m     \u001b[0mnorm_center\u001b[0m \u001b[1;33m=\u001b[0m \u001b[0mnp\u001b[0m\u001b[1;33m.\u001b[0m\u001b[0mlinalg\u001b[0m\u001b[1;33m.\u001b[0m\u001b[0mnorm\u001b[0m\u001b[1;33m(\u001b[0m\u001b[0mcenter\u001b[0m\u001b[1;33m)\u001b[0m\u001b[1;33m\u001b[0m\u001b[1;33m\u001b[0m\u001b[0m\n\u001b[0;32m     20\u001b[0m     \u001b[1;32mreturn\u001b[0m \u001b[0mint\u001b[0m\u001b[1;33m(\u001b[0m\u001b[0mabs\u001b[0m\u001b[1;33m(\u001b[0m\u001b[1;36m1\u001b[0m \u001b[1;33m-\u001b[0m \u001b[0mnorm_e\u001b[0m \u001b[1;33m/\u001b[0m \u001b[0mnorm_center\u001b[0m\u001b[1;33m)\u001b[0m \u001b[1;33m*\u001b[0m \u001b[1;36m100\u001b[0m\u001b[1;33m)\u001b[0m\u001b[1;33m\u001b[0m\u001b[1;33m\u001b[0m\u001b[0m\n",
      "\u001b[1;32m<__array_function__ internals>\u001b[0m in \u001b[0;36mnorm\u001b[1;34m(*args, **kwargs)\u001b[0m\n",
      "\u001b[1;32m~\\anaconda3\\lib\\site-packages\\numpy\\linalg\\linalg.py\u001b[0m in \u001b[0;36mnorm\u001b[1;34m(x, ord, axis, keepdims)\u001b[0m\n\u001b[0;32m   2523\u001b[0m             (ord == 2 and ndim == 1)):\n\u001b[0;32m   2524\u001b[0m \u001b[1;33m\u001b[0m\u001b[0m\n\u001b[1;32m-> 2525\u001b[1;33m             \u001b[0mx\u001b[0m \u001b[1;33m=\u001b[0m \u001b[0mx\u001b[0m\u001b[1;33m.\u001b[0m\u001b[0mravel\u001b[0m\u001b[1;33m(\u001b[0m\u001b[0morder\u001b[0m\u001b[1;33m=\u001b[0m\u001b[1;34m'K'\u001b[0m\u001b[1;33m)\u001b[0m\u001b[1;33m\u001b[0m\u001b[1;33m\u001b[0m\u001b[0m\n\u001b[0m\u001b[0;32m   2526\u001b[0m             \u001b[1;32mif\u001b[0m \u001b[0misComplexType\u001b[0m\u001b[1;33m(\u001b[0m\u001b[0mx\u001b[0m\u001b[1;33m.\u001b[0m\u001b[0mdtype\u001b[0m\u001b[1;33m.\u001b[0m\u001b[0mtype\u001b[0m\u001b[1;33m)\u001b[0m\u001b[1;33m:\u001b[0m\u001b[1;33m\u001b[0m\u001b[1;33m\u001b[0m\u001b[0m\n\u001b[0;32m   2527\u001b[0m                 \u001b[0msqnorm\u001b[0m \u001b[1;33m=\u001b[0m \u001b[0mdot\u001b[0m\u001b[1;33m(\u001b[0m\u001b[0mx\u001b[0m\u001b[1;33m.\u001b[0m\u001b[0mreal\u001b[0m\u001b[1;33m,\u001b[0m \u001b[0mx\u001b[0m\u001b[1;33m.\u001b[0m\u001b[0mreal\u001b[0m\u001b[1;33m)\u001b[0m \u001b[1;33m+\u001b[0m \u001b[0mdot\u001b[0m\u001b[1;33m(\u001b[0m\u001b[0mx\u001b[0m\u001b[1;33m.\u001b[0m\u001b[0mimag\u001b[0m\u001b[1;33m,\u001b[0m \u001b[0mx\u001b[0m\u001b[1;33m.\u001b[0m\u001b[0mimag\u001b[0m\u001b[1;33m)\u001b[0m\u001b[1;33m\u001b[0m\u001b[1;33m\u001b[0m\u001b[0m\n",
      "\u001b[1;31mKeyboardInterrupt\u001b[0m: "
     ]
    }
   ],
   "source": [
    "import timeit\n",
    "\n",
    "start = timeit.default_timer()\n",
    "\n",
    "clusters_size = sampled_df['cluster'].value_counts()\n",
    "\n",
    "clusters = init_list_of_objects(n_clusters)\n",
    "\n",
    "for i in range(N):\n",
    "    clusters[sampled_df['cluster'][i]].append(i)\n",
    "\n",
    "initial_means = []\n",
    "\n",
    "for i in range(n_clusters):\n",
    "    initial_means.append(calculateMean(norm_data.iloc[clusters[i]]))\n",
    "\n",
    "cluster_sample = init_list_of_objects(n_clusters)\n",
    "\n",
    "for i in range(n_clusters):\n",
    "    j = 0\n",
    "    while len(cluster_sample[i]) < int(sampling_ratio * len(clusters[i])):\n",
    "        if (clusters[i][j] not in cluster_sample[i]):\n",
    "            if simpleRandomSampling(probability(norm_data.iloc[clusters[i][j]], centroids[i])):\n",
    "                cluster_sample[i].append(clusters[i][j])\n",
    "        j = j + 1\n",
    "        if j == len(clusters[i]):\n",
    "            j = 0\n",
    "\n",
    "rank_table = init_list_of_dict(n_clusters)\n",
    "\n",
    "samples_means = []\n",
    "\n",
    "for i in range(n_clusters):\n",
    "    samples_means.append(calculateMean(norm_data.iloc[cluster_sample[i]]))\n",
    "\n",
    "for i in range(n_clusters):\n",
    "    for j in range(len(cluster_sample[i])):\n",
    "        rank_table[i][cluster_sample[i][j]] = calculateErrorWithoutSample(norm_data.iloc[(cluster_sample[i][:j] + cluster_sample[i][j+1:])],\n",
    "                                                                          samples_means[i])\n",
    "\n",
    "for i in range(n_clusters):\n",
    "    rank_table[i] = dict(\n",
    "        sorted(rank_table[i].items(), key=lambda item: item[1]))\n",
    "\n",
    "############################################ Code to retrieve dict values ##################################################\n",
    "\n",
    "# dict_pairs = rank_table[0].items()\n",
    "# pairs_iterator = iter(dict_pairs)\n",
    "# for i in range(len(cluster_sample[0])):\n",
    "#     first_pair = next(pairs_iterator)\n",
    "#     print(\" pair: \", first_pair)\n",
    "\n",
    "M = N\n",
    "\n",
    "\n",
    "while M < len(norm_data):\n",
    "    pred = kmeans.predict(norm_data.iloc[M: M+1])\n",
    "    error = calculateErrorWithSample(\n",
    "        norm_data.iloc[M: M+1], norm_data.iloc[cluster_sample[pred[0]]], initial_means[pred[0]])\n",
    "    error_out = calculateErrorWithoutSample(\n",
    "        norm_data.iloc[cluster_sample[pred[0]]], initial_means[pred[0]])\n",
    "    if error < error_out:\n",
    "        if simpleRandomSampling(probability(norm_data.iloc[M], centroids[pred[0]])):\n",
    "            cluster_sample[pred[0]].append(M)\n",
    "            cluster_sample[pred[0]].remove(list(rank_table[pred[0]].keys())[0])\n",
    "            del rank_table[pred[0]][list(rank_table[pred[0]].keys())[0]]\n",
    "    M = M + 1\n",
    "    if M % window_size == 0:\n",
    "        print(M)\n",
    "        samples_means = []\n",
    "        for i in range(n_clusters):\n",
    "            samples_means.append(calculateMean(\n",
    "                norm_data.iloc[cluster_sample[i]]))\n",
    "\n",
    "        for i in range(n_clusters):\n",
    "            for j in range(len(cluster_sample[i])):\n",
    "                rank_table[i][cluster_sample[i][j]] = calculateErrorWithoutSample(norm_data.iloc[(cluster_sample[i][:j] + cluster_sample[i][j+1:])],\n",
    "                                                                                  samples_means[i])\n",
    "\n",
    "        for i in range(n_clusters):\n",
    "            rank_table[i] = dict(\n",
    "                sorted(rank_table[i].items(), key=lambda item: item[1]))\n",
    "\n",
    "\n",
    "stop = timeit.default_timer()\n",
    "execution_time = stop - start\n",
    "\n",
    "print(\"Program Executed in \" + str(execution_time)) # Execution time in sec"
   ]
  },
  {
   "cell_type": "code",
   "execution_count": null,
   "metadata": {},
   "outputs": [
    {
     "name": "stdout",
     "output_type": "stream",
     "text": [
      "For n_clusters = 5 The average silhouette_score is : 0.6742690570247563\n"
     ]
    },
    {
     "data": {
      "image/png": "[encoded data removed]",
      "text/plain": [
       "<Figure size 1296x504 with 1 Axes>"
      ]
     },
     "metadata": {
      "needs_background": "light"
     },
     "output_type": "display_data"
    }
   ],
   "source": [
    "import matplotlib.pyplot as plt\n",
    "import matplotlib.cm as cm\n",
    "\n",
    "cluster_labels = []\n",
    "X = []\n",
    "\n",
    "for i in range(n_clusters):\n",
    "    for j in range(len(cluster_sample[i])):\n",
    "        X.append(norm_data.iloc[cluster_sample[i][j]].values)\n",
    "        cluster_labels.append(i)\n",
    "\n",
    "range_n_clusters = [5]\n",
    "\n",
    "for n_clusters in range_n_clusters:\n",
    "    # Create a subplot with 1 row and 2 columns\n",
    "    fig, (ax1) = plt.subplots(1, 1)\n",
    "    fig.set_size_inches(18, 7)\n",
    "\n",
    "    # The 1st subplot is the silhouette plot\n",
    "    # The silhouette coefficient can range from -1, 1 but in this example all\n",
    "    # lie within [-0.1, 1]\n",
    "    ax1.set_xlim([-0.1, 1])\n",
    "    # The (n_clusters+1)*10 is for inserting blank space between silhouette\n",
    "    # plots of individual clusters, to demarcate them clearly.\n",
    "    ax1.set_ylim([0, len(X) + (n_clusters + 1) * 10])\n",
    "\n",
    "    # Initialize the clusterer with n_clusters value and a random generator\n",
    "    # seed of 10 for reproducibility.\n",
    "    clusterer = KMeans(n_clusters=n_clusters, random_state=10)\n",
    "    cluster_labels = clusterer.fit_predict(X)\n",
    "\n",
    "    # The silhouette_score gives the average value for all the samples.\n",
    "    # This gives a perspective into the density and separation of the formed\n",
    "    # clusters\n",
    "    silhouette_avg = silhouette_score(X, cluster_labels)\n",
    "    print(\n",
    "        \"For n_clusters =\",\n",
    "        n_clusters,\n",
    "        \"The average silhouette_score is :\",\n",
    "        silhouette_avg,\n",
    "    )\n",
    "\n",
    "    # Compute the silhouette scores for each sample\n",
    "    sample_silhouette_values = silhouette_samples(X, cluster_labels)\n",
    "\n",
    "    y_lower = 10\n",
    "    for i in range(n_clusters):\n",
    "        # Aggregate the silhouette scores for samples belonging to\n",
    "        # cluster i, and sort them\n",
    "        ith_cluster_silhouette_values = sample_silhouette_values[cluster_labels == i]\n",
    "\n",
    "        ith_cluster_silhouette_values.sort()\n",
    "\n",
    "        size_cluster_i = ith_cluster_silhouette_values.shape[0]\n",
    "        y_upper = y_lower + size_cluster_i\n",
    "\n",
    "        color = cm.nipy_spectral(float(i) / n_clusters)\n",
    "        ax1.fill_betweenx(\n",
    "            np.arange(y_lower, y_upper),\n",
    "            0,\n",
    "            ith_cluster_silhouette_values,\n",
    "            facecolor=color,\n",
    "            edgecolor=color,\n",
    "            alpha=0.7,\n",
    "        )\n",
    "\n",
    "        # Label the silhouette plots with their cluster numbers at the middle\n",
    "        ax1.text(-0.05, y_lower + 0.5 * size_cluster_i, str(i))\n",
    "\n",
    "        # Compute the new y_lower for next plot\n",
    "        y_lower = y_upper + 10  # 10 for the 0 samples\n",
    "\n",
    "    ax1.set_title(\"The silhouette plot for the various clusters.\")\n",
    "    ax1.set_xlabel(\"The silhouette coefficient values\")\n",
    "    ax1.set_ylabel(\"Cluster label\")\n",
    "\n",
    "    # The vertical line for average silhouette score of all the values\n",
    "    ax1.axvline(x=silhouette_avg, color=\"red\", linestyle=\"--\")\n",
    "\n",
    "    ax1.set_yticks([])  # Clear the yaxis labels / ticks\n",
    "    ax1.set_xticks([-0.1, 0, 0.2, 0.4, 0.6, 0.8, 1])\n",
    "\n",
    "plt.show()\n",
    "\n",
    "\n"
   ]
  }
 ],
 "metadata": {
  "kernelspec": {
   "display_name": "Python 3",
   "language": "python",
   "name": "python3"
  },
  "language_info": {
   "codemirror_mode": {
    "name": "ipython",
    "version": 3
   },
   "file_extension": ".py",
   "mimetype": "text/x-python",
   "name": "python",
   "nbconvert_exporter": "python",
   "pygments_lexer": "ipython3",
   "version": "3.9.7"
  }
 },
 "nbformat": 4,
 "nbformat_minor": 4
}
